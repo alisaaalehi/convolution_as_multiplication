{
 "cells": [
  {
   "cell_type": "markdown",
   "metadata": {},
   "source": [
    "__[Read a pdf version of this post here](https://github.com/alisaaalehi/convolution_as_multiplication/blob/master/ConvAsMulExplained.pdf)__\n",
    "\n",
    "\n",
    "# What is the purpose?\n",
    "\n",
    "Instead of using `for-loops` to perform 2D convolution on images (or any other 2D matrices) we can convert the filter to a `Toeplitz matrix` and image to a vector and do the convolution just by one `matrix multiplication` (and of course some post-processing on the result of this multiplication to get the final result)\n",
    "\n",
    "# Why do we do that?\n",
    "There are many efficient matrix multiplication algorithms, so using them we can have an efficient implementation of convolution operation.\n",
    "\n",
    "# What is in this document?\n",
    "Mathematical and algorithmic explanation of this process. I will put a naive Python implementation of this algorithm to make it more clear.<br>\n",
    "Let's start with some definition and basic operation:\n",
    "\n",
    "## What is a Toeplitz matrix?\n",
    "Toeplitz matrix is a matrix in which each values along the main diagonal and sub diagonals are constant. Matrix $G$ is an example:\n",
    "\n",
    "$$\\begin{pmatrix}\n",
    "\t2 & -1 & 0 & \\cdots & \\cdots & \\cdots & \\cdots & 1\\\\\n",
    "\t5 & 2 & -1 & 0 & & & & \\vdots\\\\\n",
    "\t-8 & 5 & 2 & -1 & \\ddots & & & \\vdots\\\\\n",
    "\t\\vdots & -8 & \\ddots & \\ddots & \\ddots & \\ddots & & \\vdots\\\\\n",
    "\t\\vdots & & \\ddots & \\ddots & \\ddots & \\ddots & 0 & \\vdots\\\\\n",
    "\t\\vdots & & & \\ddots & 5 & 2 & -1 & 0\\\\\n",
    "\t\\vdots & & & & -8 & 5 & 2 & -1\\\\\n",
    "\t1 & \\cdots & \\cdots  & \\cdots & \\cdots & -8 & 5 & 2\\\\\n",
    "\t\\end{pmatrix}$$\n",
    "    \n",
    "In a $N \\times N$ matrix, its elements are determined by a ($2N -1$) length sequence\n",
    "\t $$\\{t_n | -(N-1) \\le n \\le (N-1)\\}$$\n",
    "\n",
    "So given a sequence $t_n$ we can create a Toeplitz matrix by following these steps:    \n",
    " - put the sequence in the first column of the matrix.\n",
    " - shift it and put it in the next column. When shifting, the last element disappears and a new element of the sequence appears. If there is no such an element, put zero in that location. \n",
    "\n",
    "specifically: $T(m,n)=t_{m-n}$\n",
    "\n",
    "$$\\begin{pmatrix}\n",
    "\tt_0 & t_{-1} & t_{-2} & \\cdots & \\cdots & \\cdots & \\cdots & t_{-(N-1)}\\\\\n",
    "\tt_1 & t_0 & t_{-1} & t_{-2} & & & & \\vdots\\\\\n",
    "\tt_2 & t_1 & t_0 & t_{-1} & \\ddots & & & \\vdots\\\\\n",
    "\t\\vdots & t_2 & \\ddots & \\ddots & \\ddots & \\ddots & & \\vdots\\\\\n",
    "\t\\vdots & & \\ddots & \\ddots & \\ddots & \\ddots & t_{-2} & \\vdots\\\\\n",
    "\t\\vdots & & & \\ddots & t_1 & t_0 & t_{-1} & t_{-2}\\\\\n",
    "\t\\vdots & & & & t_2 & t_1 & t_0 & t_{-1}\\\\\n",
    "\tt_{(N-1)} & \\cdots & \\cdots  & \\cdots & \\cdots & t_2 & t_1 & t_0\\\\\n",
    "\t\\end{pmatrix}$$\n",
    "\n",
    "Be aware that when we are working with sequences that are defined just for $n \\ge 0$ values for $t_n$ when $n \\le 0$ should be considered as $0$. For example $4 \\times 4$ Toeplitz matrix for the sequence $f[n]=[1,2,3]$ will be:\n",
    "\n",
    "$$\\begin{pmatrix}\n",
    "\t1 & 0 & 0 & 0\\\\\n",
    "\t2 & 1 & 0 & 0\\\\\n",
    "\t3 & 2 & 1 & 0\\\\\n",
    "\t0 & 3 & 2 & 1 \\\\\n",
    "\t\\end{pmatrix}$$\n",
    "    \n",
    "<a id=\"doubly_blocked\"></a>   \n",
    "## One more definition: Doubly Blocked Toeplitz mtrix\n",
    "In the matrix $A$, all $A_{ij}$ are matrices. If the structure of $A$, with respects to its sub-matrices is Toeplitz, then matrix $A$ is called \\textbf{Block-Toeplitz}. \n",
    "\n",
    "$$\\begin{pmatrix}\n",
    "\tA_{11} & A_{12} & \\cdots & A_{1N}\\\\\n",
    "\tA_{21} & A_{22} & \\cdots & A_{2N}\\\\\n",
    "\t\\vdots & \\vdots & \\vdots & \\vdots \\\\\n",
    "\tA_{M1} & A_{M2} & \\cdots & A_{MN}\\\\\n",
    "\t\\end{pmatrix}$$\n",
    "\t\n",
    "If each individual $A{ij}$ also is a Toeplitz matrix then $A$ is called \\textbf{Doubly Blocked Toeplitz}\n",
    "\t\n",
    "# Is this Convolution or Cross Correlation?\n",
    "Most of the time, the word *convolution* in the deep learning literature is used instead of *cross-correlation*, but here I am explaining the process for convolution as is known in the signal processing community. Simply, for convolution we need to flip the filter (kernel) in both vertical and horizontal directions, but for cross-correlation we don't. \n",
    "\t\n",
    "The method explained here performs the convolution (not correlation). Because of the way it is implemented here, there is no need to flip the filter, but if you are doing an example by hand and want to compare the results with the implemented method, remember to consider the flipping step in your calculation."
   ]
  },
  {
   "cell_type": "markdown",
   "metadata": {},
   "source": [
    "# Step by Step\n",
    "Let's explain the algorithm step by step using an example. Codes are written in python and the numpy library is used all over the code.\n",
    "\t\n",
    "**Note:** Remember that convolution is a commutative operation, so it does not change the output if we switch the inputs for this operation. For simplicity, I will be calling one of the inputs *input* or `I` and the other *filter* or `F`\n",
    "\t\n",
    "## Input and Filter\n",
    "Input matrix that the filter will be convolved with it, is:\n",
    "\n",
    "$$I = \n",
    "\t\\begin{bmatrix}\n",
    "\t1 & 2 & 3 \\\\\n",
    "\t4 & 5 & 6 \\\\\n",
    "\t\\end{bmatrix}$$\n",
    "\t\n",
    "And let the filter be:\n",
    "\n",
    "$$F = \n",
    "\t\\begin{bmatrix}\n",
    "\t10 & 20 \\\\\n",
    "\t30 & 40 \\\\\n",
    "\t\\end{bmatrix}$$\n",
    "   "
   ]
  },
  {
   "cell_type": "code",
   "execution_count": 21,
   "metadata": {},
   "outputs": [
    {
     "name": "stdout",
     "output_type": "stream",
     "text": [
      "('I: ', (2, 3))\n",
      "[[1 2 3]\n",
      " [4 5 6]]\n",
      "('F: ', (2, 2))\n",
      "[[10 20]\n",
      " [30 40]]\n"
     ]
    }
   ],
   "source": [
    "import numpy as np\n",
    "\n",
    "# input signal\n",
    "I = np.array([[1, 2, 3], [4, 5, 6]])\n",
    "print('I: ', I.shape)\n",
    "print(I)\n",
    "\n",
    " # filter \n",
    "F = np.array([[10, 20], [30, 40]])\n",
    "print('F: ',F.shape)\n",
    "print(F)"
   ]
  },
  {
   "cell_type": "markdown",
   "metadata": {},
   "source": [
    "<a id=\"output-size\"></a>\n",
    "## Calculate the final output size\n",
    "If the input signal is $m_1 \\times n_1$ and filter is $m_2 \\times n_2$ the size of the convolution will be \n",
    "\n",
    "$$(m_1 + m_2 -1) \\times (n_1 + n_2 -1)$$\n",
    "\n",
    "This is the size of full discrete linear convolution. One might just use some part of the output based on the application. For example in deep learning literature you can use \"valid\" or \"same\" as your padding mode. In these case just parts of the full output is used.\n",
    "\n",
    "Proper zero padding should be done to get the correct output. Zero padding is the next step.  "
   ]
  },
  {
   "cell_type": "code",
   "execution_count": 22,
   "metadata": {},
   "outputs": [
    {
     "name": "stdout",
     "output_type": "stream",
     "text": [
      "('output dimension:', 3, 4)\n"
     ]
    }
   ],
   "source": [
    "# number columns and rows of the input \n",
    "I_row_num, I_col_num = I.shape \n",
    "\n",
    "# number of columns and rows of the filter\n",
    "F_row_num, F_col_num = F.shape\n",
    "\n",
    "#  calculate the output dimensions\n",
    "output_row_num = I_row_num + F_row_num - 1\n",
    "output_col_num = I_col_num + F_col_num - 1\n",
    "print('output dimension:', output_row_num, output_col_num)\n"
   ]
  },
  {
   "cell_type": "markdown",
   "metadata": {},
   "source": [
    "## Zero-pad the filter matrix\n",
    "The next step is to zero pad the filter to make it the same size as the output. Zeros should be added to the top and right sides of the filter.\n",
    "\n",
    "<img src=\"images/3.png\" alt=\"Zero padding\" title=\"Zero padded F\" />"
   ]
  },
  {
   "cell_type": "code",
   "execution_count": 23,
   "metadata": {},
   "outputs": [
    {
     "name": "stdout",
     "output_type": "stream",
     "text": [
      "('F_zero_padded: ', array([[ 0,  0,  0,  0],\n",
      "       [10, 20,  0,  0],\n",
      "       [30, 40,  0,  0]]))\n"
     ]
    }
   ],
   "source": [
    "# zero pad the filter\n",
    "F_zero_padded = np.pad(F, ((output_row_num - F_row_num, 0),\n",
    "                           (0, output_col_num - F_col_num)),\n",
    "                        'constant', constant_values=0)\n",
    "print('F_zero_padded: ', F_zero_padded)"
   ]
  },
  {
   "cell_type": "markdown",
   "metadata": {},
   "source": [
    "## Toeplitz matrix for each row of the zero-padded filter\n",
    "For each row of the zero-padded filter `F_zero_padded` create a Toeplitz matrix and store them in a list. Matrix created using the last row goes to the first cell of this list.\n",
    "\n",
    "<img src=\"images/4.png\" alt=\"Toeplitz matrix for each row of the zero-padded filter\" title=\"Toeplitz matrix for each row of the zero-padded filter\" />\n",
    "\n",
    "**Why these matrices have three columns? Why not two or 5? What is the rule here?**\n",
    "The important point is that the number of columns of these generated Toeplitz matrices should be same as the number of columns of the input (I) matrix.\n",
    "\n",
    "In the code, I am using `toeplitz()` function from `scipy.linalg library`. One row of the $F$ is passed to this function and the function puts it as the first column of the its output matrix. Then as it is explained before, this vector should be shifted down and be putted in the second column. For this function, in addition to the first column, we need to define the first row, otherwise, the output of the function would be different than what we expect here. The first element of this first row is same as the first element of the first column, and the rest of the elements should be set to zero. (I know that it doesn't make sense :D read it twice and look at the code)"
   ]
  },
  {
   "cell_type": "code",
   "execution_count": 24,
   "metadata": {},
   "outputs": [
    {
     "name": "stdout",
     "output_type": "stream",
     "text": [
      "('F 2\\n', array([[30.,  0.,  0.],\n",
      "       [40., 30.,  0.],\n",
      "       [ 0., 40., 30.],\n",
      "       [ 0.,  0., 40.]]))\n",
      "('F 1\\n', array([[10.,  0.,  0.],\n",
      "       [20., 10.,  0.],\n",
      "       [ 0., 20., 10.],\n",
      "       [ 0.,  0., 20.]]))\n",
      "('F 0\\n', array([[0., 0., 0.],\n",
      "       [0., 0., 0.],\n",
      "       [0., 0., 0.],\n",
      "       [0., 0., 0.]]))\n"
     ]
    }
   ],
   "source": [
    "from scipy.linalg import toeplitz\n",
    "\n",
    "# use each row of the zero-padded F to creat a toeplitz matrix. \n",
    "#  Number of columns in this matrices are same as numbe of columns of input signal\n",
    "toeplitz_list = []\n",
    "for i in range(F_zero_padded.shape[0]-1, -1, -1): # iterate from last row to the first row\n",
    "    c = F_zero_padded[i, :] # i th row of the F \n",
    "    r = np.r_[c[0], np.zeros(I_col_num-1)] # first row for the toeplitz fuction should be defined otherwise\n",
    "                                                        # the result is wrong\n",
    "    toeplitz_m = toeplitz(c,r) # this function is in scipy.linalg library\n",
    "    toeplitz_list.append(toeplitz_m)\n",
    "    print('F '+ str(i)+'\\n', toeplitz_m)"
   ]
  },
  {
   "cell_type": "markdown",
   "metadata": {},
   "source": [
    "## Create doubly blocked toeplitz matrix\n",
    "Now all these small toeplitz matrices should be arranged in a big doubly blocked toepltiz matrix [as described in this section](#doubly_blocked).\n",
    "\n",
    "In this example $F_0, F_1, F_2$ are corresponding toeplitz matrices for each row of the filter. They should be filled in the doubly blocked toeplitz matrix in this way:\n",
    "\n",
    "$$doubly \\ blocked = \n",
    "\t\\begin{bmatrix}\n",
    "\tF_0 & 0 \\\\\n",
    "\tF_1 & F_0 \\\\\n",
    "\tF_2 & F_1 \\\\\n",
    "\t\\end{bmatrix}$$\n",
    "    \n",
    "Number of columns in this symbolic matrix should be same as the number of rows in the input signal I.\\\\\n",
    "\tThe following code stores the indexes of $F_0, F_1, F_2$ in this format. This will be used to fill out the doubly blocked toepltiz matrix later."
   ]
  },
  {
   "cell_type": "code",
   "execution_count": 25,
   "metadata": {},
   "outputs": [
    {
     "name": "stdout",
     "output_type": "stream",
     "text": [
      "('doubly indices \\n', array([[1, 0],\n",
      "       [2, 1],\n",
      "       [3, 2]]))\n"
     ]
    }
   ],
   "source": [
    "# doubly blocked toeplitz indices: \n",
    "#  this matrix defines which toeplitz matrix from toeplitz_list goes to which part of the doubly blocked\n",
    "c = range(1, F_zero_padded.shape[0]+1)\n",
    "r = np.r_[c[0], np.zeros(I_row_num-1, dtype=int)]\n",
    "doubly_indices = toeplitz(c, r)\n",
    "print('doubly indices \\n', doubly_indices)"
   ]
  },
  {
   "cell_type": "markdown",
   "metadata": {},
   "source": [
    "Now let's fill in the doubly blocked toepltiz matrix. Following code does this part:"
   ]
  },
  {
   "cell_type": "code",
   "execution_count": 26,
   "metadata": {},
   "outputs": [
    {
     "name": "stdout",
     "output_type": "stream",
     "text": [
      "('doubly_blocked: ', array([[30.,  0.,  0.,  0.,  0.,  0.],\n",
      "       [40., 30.,  0.,  0.,  0.,  0.],\n",
      "       [ 0., 40., 30.,  0.,  0.,  0.],\n",
      "       [ 0.,  0., 40.,  0.,  0.,  0.],\n",
      "       [10.,  0.,  0., 30.,  0.,  0.],\n",
      "       [20., 10.,  0., 40., 30.,  0.],\n",
      "       [ 0., 20., 10.,  0., 40., 30.],\n",
      "       [ 0.,  0., 20.,  0.,  0., 40.],\n",
      "       [ 0.,  0.,  0., 10.,  0.,  0.],\n",
      "       [ 0.,  0.,  0., 20., 10.,  0.],\n",
      "       [ 0.,  0.,  0.,  0., 20., 10.],\n",
      "       [ 0.,  0.,  0.,  0.,  0., 20.]]))\n"
     ]
    }
   ],
   "source": [
    "## creat doubly blocked matrix with zero values\n",
    "toeplitz_shape = toeplitz_list[0].shape # shape of one toeplitz matrix\n",
    "h = toeplitz_shape[0]*doubly_indices.shape[0]\n",
    "w = toeplitz_shape[1]*doubly_indices.shape[1]\n",
    "doubly_blocked_shape = [h, w]\n",
    "doubly_blocked = np.zeros(doubly_blocked_shape)\n",
    "\n",
    "# tile toeplitz matrices for each row in the doubly blocked matrix\n",
    "b_h, b_w = toeplitz_shape # hight and withs of each block\n",
    "for i in range(doubly_indices.shape[0]):\n",
    "    for j in range(doubly_indices.shape[1]):\n",
    "        start_i = i * b_h\n",
    "        start_j = j * b_w\n",
    "        end_i = start_i + b_h\n",
    "        end_j = start_j + b_w\n",
    "        doubly_blocked[start_i: end_i, start_j:end_j] = toeplitz_list[doubly_indices[i,j]-1]\n",
    "\n",
    "print('doubly_blocked: ', doubly_blocked)"
   ]
  },
  {
   "cell_type": "markdown",
   "metadata": {},
   "source": [
    "For this example the result will be the following matrix. I've colored parts of the matrix that is related to each of the small toeplitz matrices.\n",
    "\n",
    "<img src=\"images/6.png\" alt=\"doubly blocked toeplitz\" title=\"doubly blocked toeplitz matrix\">"
   ]
  },
  {
   "cell_type": "markdown",
   "metadata": {},
   "source": [
    "## Convert the input matrix to a vector\n",
    "Now that the filter has converted to a doubly blocked Toeplitz matrix, we just need to convert the input signal to a vector and multiply them. \n",
    "\n",
    "All the rows of the input should be transposed to a column vector and stacked on top of each other. The last row goes first!\n",
    "\n",
    "<img src=\"images/7.png\" alt=\"vectorized input\" title=\"vectorized input\">\n",
    "\n",
    "The following function does the vectorization. I am sure that there are much simpler ways to do so, but for the purpose of explanation, this function is implemented in this way."
   ]
  },
  {
   "cell_type": "code",
   "execution_count": 27,
   "metadata": {},
   "outputs": [],
   "source": [
    "\n",
    "def matrix_to_vector(input):\n",
    "    input_h, input_w = input.shape\n",
    "    output_vector = np.zeros(input_h*input_w, dtype=input.dtype)\n",
    "    # flip the input matrix up-down because last row should go first\n",
    "    input = np.flipud(input) \n",
    "    for i,row in enumerate(input):\n",
    "        st = i*input_w\n",
    "        nd = st + input_w\n",
    "        output_vector[st:nd] = row\n",
    "        \n",
    "    return output_vector\n"
   ]
  },
  {
   "cell_type": "code",
   "execution_count": 28,
   "metadata": {},
   "outputs": [
    {
     "name": "stdout",
     "output_type": "stream",
     "text": [
      "('vectorized_I: ', array([4, 5, 6, 1, 2, 3]))\n"
     ]
    }
   ],
   "source": [
    "# call the function\n",
    "vectorized_I = matrix_to_vector(I)\n",
    "print('vectorized_I: ', vectorized_I)"
   ]
  },
  {
   "cell_type": "markdown",
   "metadata": {},
   "source": [
    "## Multiply doubly blocked toeplitz matrix with vectorized input signal\n",
    "Do the matrix multiplication between these two matrices. In this example, the doubly blocked Toeplitz matrix is $ 12 \\times 6$ and the vectorized input is $6 \\times 1$ so the result of the multiplication is $12 \\times 1$."
   ]
  },
  {
   "cell_type": "code",
   "execution_count": 29,
   "metadata": {},
   "outputs": [
    {
     "name": "stdout",
     "output_type": "stream",
     "text": [
      "('result_vector: ', array([120., 310., 380., 240.,  70., 230., 330., 240.,  10.,  40.,  70.,\n",
      "        60.]))\n"
     ]
    }
   ],
   "source": [
    "# get result of the convolution by matrix mupltiplication\n",
    "result_vector = np.matmul(doubly_blocked, vectorized_I)\n",
    "print('result_vector: ', result_vector)"
   ]
  },
  {
   "cell_type": "markdown",
   "metadata": {},
   "source": [
    "## Last step: reshape the result to a matrix form\n",
    "From section [output_size](#output-size) we know that the output of the convolution should be $(m_1 + m_2 -1) \\times (n_1 + n_2 -1)$. First $(n_1 + n_2 -1)$ elements in the output vector form the last row of the final output and the second $(n_1 + n_2 -1)$ elements go to the second-to-last row of the output matrix. Repeat this process to form the final output matrix.\n",
    "\t\n",
    "In this example $n_1 = 3$ and $n_2 = 2$, so every 4 element goes to one row of the output matrix.\n",
    "\n",
    "<img src=\"images/8.png\" alt=\"reshape the output\">\n",
    "\n",
    "Following function performs this step:"
   ]
  },
  {
   "cell_type": "code",
   "execution_count": 30,
   "metadata": {},
   "outputs": [],
   "source": [
    "\n",
    "def vector_to_matrix(input, output_shape):\n",
    "    output_h, output_w = output_shape\n",
    "    output = np.zeros(output_shape, dtype=input.dtype)\n",
    "    for i in range(output_h):\n",
    "        st = i*output_w\n",
    "        nd = st + output_w\n",
    "        output[i, :] = input[st:nd]\n",
    "    # flip the output matrix up-down to get correct result\n",
    "    output=np.flipud(output)\n",
    "    return output\n"
   ]
  },
  {
   "cell_type": "code",
   "execution_count": 31,
   "metadata": {},
   "outputs": [
    {
     "name": "stdout",
     "output_type": "stream",
     "text": [
      "('Result of implemented method: \\n', array([[ 10.,  40.,  70.,  60.],\n",
      "       [ 70., 230., 330., 240.],\n",
      "       [120., 310., 380., 240.]]))\n"
     ]
    }
   ],
   "source": [
    "# reshape the raw rsult to desired matrix form\n",
    "out_shape = [output_row_num, output_col_num]\n",
    "my_output = vector_to_matrix(result_vector, out_shape)\n",
    "\n",
    "print('Result of implemented method: \\n', my_output)"
   ]
  },
  {
   "cell_type": "markdown",
   "metadata": {},
   "source": [
    "# Compare the result with other convolution methods\n",
    "We can compare the output of this method with `convolve2d()` function from the `scipy` library."
   ]
  },
  {
   "cell_type": "code",
   "execution_count": 32,
   "metadata": {},
   "outputs": [
    {
     "name": "stdout",
     "output_type": "stream",
     "text": [
      "('Result using signal processing library\\n', array([[ 10,  40,  70,  60],\n",
      "       [ 70, 230, 330, 240],\n",
      "       [120, 310, 380, 240]]))\n"
     ]
    }
   ],
   "source": [
    "from scipy import signal\n",
    "\n",
    "lib_output = signal.convolve2d(I, F, \"full\")\n",
    "print('Result using signal processing library\\n', lib_output)\n",
    "\n",
    "assert(my_output.all() == lib_output.all())"
   ]
  },
  {
   "cell_type": "markdown",
   "metadata": {},
   "source": [
    "As you can see the result on the same I and F matrices is same as the result of the implemented method. The parameter \"full\" is passed to the `signal.convolve2d()` function to get the full convolution results."
   ]
  },
  {
   "cell_type": "markdown",
   "metadata": {},
   "source": [
    "# Put everything together\n",
    "\n",
    "Lets put all the codes in one function and call it with different inputs"
   ]
  },
  {
   "cell_type": "code",
   "execution_count": 33,
   "metadata": {},
   "outputs": [],
   "source": [
    "import numpy as np\n",
    "from scipy.linalg import toeplitz\n",
    "\n",
    "\n",
    "def matrix_to_vector(input):\n",
    "    \"\"\"\n",
    "    Converts the input matrix to a vector by stacking the rows in a specific way explained here\n",
    "    \n",
    "    Arg:\n",
    "    input -- a numpy matrix\n",
    "    \n",
    "    Returns:\n",
    "    ouput_vector -- a column vector with size input.shape[0]*input.shape[1]\n",
    "    \"\"\"\n",
    "    input_h, input_w = input.shape\n",
    "    output_vector = np.zeros(input_h*input_w, dtype=input.dtype)\n",
    "    # flip the input matrix up-down because last row should go first\n",
    "    input = np.flipud(input) \n",
    "    for i,row in enumerate(input):\n",
    "        st = i*input_w\n",
    "        nd = st + input_w\n",
    "        output_vector[st:nd] = row   \n",
    "    return output_vector\n",
    "\n",
    "\n",
    "def vector_to_matrix(input, output_shape):\n",
    "    \"\"\"\n",
    "    Reshapes the output of the maxtrix multiplication to the shape \"output_shape\"\n",
    "    \n",
    "    Arg:\n",
    "    input -- a numpy vector\n",
    "    \n",
    "    Returns:\n",
    "    output -- numpy matrix with shape \"output_shape\"\n",
    "    \"\"\"\n",
    "    output_h, output_w = output_shape\n",
    "    output = np.zeros(output_shape, dtype=input.dtype)\n",
    "    for i in range(output_h):\n",
    "        st = i*output_w\n",
    "        nd = st + output_w\n",
    "        output[i, :] = input[st:nd]\n",
    "    # flip the output matrix up-down to get correct result\n",
    "    output=np.flipud(output)\n",
    "    return output\n",
    "\n",
    "\n",
    "def convolution_as_maultiplication(I, F, print_ir=False):\n",
    "    \"\"\"\n",
    "    Performs 2D convolution between input I and filter F by converting the F to a toeplitz matrix and multiply it\n",
    "      with vectorizes version of I\n",
    "      By : AliSaaalehi@gmail.com\n",
    "      \n",
    "    Arg:\n",
    "    I -- 2D numpy matrix\n",
    "    F -- numpy 2D matrix\n",
    "    print_ir -- if True, all intermediate resutls will be printed after each step of the algorithms\n",
    "    \n",
    "    Returns: \n",
    "    output -- 2D numpy matrix, result of convolving I with F\n",
    "    \"\"\"\n",
    "    # number of columns and rows of the input \n",
    "    I_row_num, I_col_num = I.shape \n",
    "\n",
    "    # number of columns and rows of the filter\n",
    "    F_row_num, F_col_num = F.shape\n",
    "\n",
    "    #  calculate the output dimensions\n",
    "    output_row_num = I_row_num + F_row_num - 1\n",
    "    output_col_num = I_col_num + F_col_num - 1\n",
    "    if print_ir: print('output dimension:', output_row_num, output_col_num)\n",
    "\n",
    "    # zero pad the filter\n",
    "    F_zero_padded = np.pad(F, ((output_row_num - F_row_num, 0),\n",
    "                               (0, output_col_num - F_col_num)),\n",
    "                            'constant', constant_values=0)\n",
    "    if print_ir: print('F_zero_padded: ', F_zero_padded)\n",
    "\n",
    "    # use each row of the zero-padded F to creat a toeplitz matrix. \n",
    "    #  Number of columns in this matrices are same as numbe of columns of input signal\n",
    "    toeplitz_list = []\n",
    "    for i in range(F_zero_padded.shape[0]-1, -1, -1): # iterate from last row to the first row\n",
    "        c = F_zero_padded[i, :] # i th row of the F \n",
    "        r = np.r_[c[0], np.zeros(I_col_num-1)] # first row for the toeplitz fuction should be defined otherwise\n",
    "                                                            # the result is wrong\n",
    "        toeplitz_m = toeplitz(c,r) # this function is in scipy.linalg library\n",
    "        toeplitz_list.append(toeplitz_m)\n",
    "        if print_ir: print('F '+ str(i)+'\\n', toeplitz_m)\n",
    "\n",
    "        # doubly blocked toeplitz indices: \n",
    "    #  this matrix defines which toeplitz matrix from toeplitz_list goes to which part of the doubly blocked\n",
    "    c = range(1, F_zero_padded.shape[0]+1)\n",
    "    r = np.r_[c[0], np.zeros(I_row_num-1, dtype=int)]\n",
    "    doubly_indices = toeplitz(c, r)\n",
    "    if print_ir: print('doubly indices \\n', doubly_indices)\n",
    "\n",
    "    ## creat doubly blocked matrix with zero values\n",
    "    toeplitz_shape = toeplitz_list[0].shape # shape of one toeplitz matrix\n",
    "    h = toeplitz_shape[0]*doubly_indices.shape[0]\n",
    "    w = toeplitz_shape[1]*doubly_indices.shape[1]\n",
    "    doubly_blocked_shape = [h, w]\n",
    "    doubly_blocked = np.zeros(doubly_blocked_shape)\n",
    "\n",
    "    # tile toeplitz matrices for each row in the doubly blocked matrix\n",
    "    b_h, b_w = toeplitz_shape # hight and withs of each block\n",
    "    for i in range(doubly_indices.shape[0]):\n",
    "        for j in range(doubly_indices.shape[1]):\n",
    "            start_i = i * b_h\n",
    "            start_j = j * b_w\n",
    "            end_i = start_i + b_h\n",
    "            end_j = start_j + b_w\n",
    "            doubly_blocked[start_i: end_i, start_j:end_j] = toeplitz_list[doubly_indices[i,j]-1]\n",
    "\n",
    "    if print_ir: print('doubly_blocked: ', doubly_blocked)\n",
    "\n",
    "    # convert I to a vector\n",
    "    vectorized_I = matrix_to_vector(I)\n",
    "    if print_ir: print('vectorized_I: ', vectorized_I)\n",
    "    \n",
    "    # get result of the convolution by matrix mupltiplication\n",
    "    result_vector = np.matmul(doubly_blocked, vectorized_I)\n",
    "    if print_ir: print('result_vector: ', result_vector)\n",
    "\n",
    "    # reshape the raw rsult to desired matrix form\n",
    "    out_shape = [output_row_num, output_col_num]\n",
    "    output = vector_to_matrix(result_vector, out_shape)\n",
    "    if print_ir: print('Result of implemented method: \\n', output)\n",
    "    \n",
    "    return output"
   ]
  },
  {
   "cell_type": "markdown",
   "metadata": {},
   "source": [
    "# Test on bigger examples\n",
    "\n",
    "Now lets test with bigger input and filter matrices and compare out results with results from singla processing function"
   ]
  },
  {
   "cell_type": "code",
   "execution_count": 34,
   "metadata": {},
   "outputs": [
    {
     "name": "stdout",
     "output_type": "stream",
     "text": [
      "('my result: \\n', array([[-0.23616414, -0.42490356,  0.63682558, ..., -1.97247008,\n",
      "        -2.52532425, -1.05906064],\n",
      "       [ 0.09816711, -1.25735839, -1.83521623, ...,  0.20537352,\n",
      "         0.10754212, -0.10969996],\n",
      "       [-0.34553193,  1.80238368,  1.84355807, ...,  0.16008298,\n",
      "        -4.23089332, -2.75144496],\n",
      "       ...,\n",
      "       [ 1.26952309, -2.13368214, -2.10869711, ...,  5.4978565 ,\n",
      "        -6.92803857, -1.58735277],\n",
      "       [ 0.18754718,  0.5640235 , -0.64031672, ..., -1.79510593,\n",
      "         0.44407038, -0.21157057],\n",
      "       [-0.69797426, -1.11170349, -0.30021619, ...,  1.93949112,\n",
      "        -5.1205442 ,  0.39370072]]))\n",
      "('lib result: \\n', array([[-0.23616414, -0.42490356,  0.63682558, ..., -1.97247008,\n",
      "        -2.52532425, -1.05906064],\n",
      "       [ 0.09816711, -1.25735839, -1.83521623, ...,  0.20537352,\n",
      "         0.10754212, -0.10969996],\n",
      "       [-0.34553193,  1.80238368,  1.84355807, ...,  0.16008298,\n",
      "        -4.23089332, -2.75144496],\n",
      "       ...,\n",
      "       [ 1.26952309, -2.13368214, -2.10869711, ...,  5.4978565 ,\n",
      "        -6.92803857, -1.58735277],\n",
      "       [ 0.18754718,  0.5640235 , -0.64031672, ..., -1.79510593,\n",
      "         0.44407038, -0.21157057],\n",
      "       [-0.69797426, -1.11170349, -0.30021619, ...,  1.93949112,\n",
      "        -5.1205442 ,  0.39370072]]))\n"
     ]
    }
   ],
   "source": [
    "# test on different examples\n",
    "\n",
    "# fill I an F with random numbers\n",
    "I = np.random.randn(10, 13)\n",
    "F = np.random.randn(30, 70)\n",
    "\n",
    "my_result = convolution_as_maultiplication(I, F)\n",
    "print('my result: \\n', my_result)\n",
    "    \n",
    "from scipy import signal\n",
    "lib_result = signal.convolve2d(I, F, \"full\")\n",
    "print('lib result: \\n', lib_result)\n",
    "\n",
    "assert(my_result.all() == lib_result.all())"
   ]
  },
  {
   "cell_type": "markdown",
   "metadata": {},
   "source": [
    "# To Do\n",
    "\t\n",
    " - Add notebook to the project -> Done!\n",
    " - Rewrite an efficient code\n",
    " - Extend it to handle multi-channel input and filters\n",
    " - Make it work with parameters padding='same' or 'valid'\n",
    " \n"
   ]
  },
  {
   "cell_type": "markdown",
   "metadata": {},
   "source": [
    " **If you read this post and find any problem or if you have any suggestion, please let me know, thanks.**\n",
    " \n",
    " # References\n",
    " \n",
    " - The steps explained here are based on Christophoros Nikou's slides on **Filtering in the Frequency Domain (Circulant Matrices and Convolution)** (http://www.cs.uoi.gr/~cnikou/Courses/Digital_Image_Processing/2010-2011/Chapter_04c_Frequency_Filtering_(Circulant_Matrices).ppt)\n",
    " - This post on https://dsp.stackexchange.com/questions/35373/convolution-as-a-doubly-block-circulant-matrix-operating-on-a-vector/35376#35376}{dsp.stackexchange also helped in understanding this algorithm."
   ]
  }
 ],
 "metadata": {
  "kernelspec": {
   "display_name": "Python 2",
   "language": "python",
   "name": "python2"
  },
  "language_info": {
   "codemirror_mode": {
    "name": "ipython",
    "version": 2
   },
   "file_extension": ".py",
   "mimetype": "text/x-python",
   "name": "python",
   "nbconvert_exporter": "python",
   "pygments_lexer": "ipython2",
   "version": "2.7.12"
  }
 },
 "nbformat": 4,
 "nbformat_minor": 2
}
